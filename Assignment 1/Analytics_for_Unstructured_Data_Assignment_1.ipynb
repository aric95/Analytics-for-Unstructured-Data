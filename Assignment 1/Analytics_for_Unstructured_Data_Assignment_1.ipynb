{
  "nbformat": 4,
  "nbformat_minor": 0,
  "metadata": {
    "accelerator": "GPU",
    "colab": {
      "name": "Analytics_for_Unstructured_Data_Assignment_1_final.ipynb",
      "provenance": [],
      "collapsed_sections": []
    },
    "kernelspec": {
      "display_name": "Python 3",
      "language": "python",
      "name": "python3"
    },
    "language_info": {
      "codemirror_mode": {
        "name": "ipython",
        "version": 3
      },
      "file_extension": ".py",
      "mimetype": "text/x-python",
      "name": "python",
      "nbconvert_exporter": "python",
      "pygments_lexer": "ipython3",
      "version": "3.8.3"
    }
  },
  "cells": [
    {
      "cell_type": "markdown",
      "metadata": {
        "id": "F0gJOC2fmAg5"
      },
      "source": [
        "## <h1><center>Analytics for Unstructured Data - Assignment 1</center></h1>"
      ]
    },
    {
      "cell_type": "markdown",
      "metadata": {
        "id": "Z_JpVNmFmAg8"
      },
      "source": [
        "<center>Akshat Johari: aj32864<br>  \n",
        "Aritra Chowdhury: ac79277<br>            \n",
        "Christian Alfonso: ca35748<br>     \n",
        "Rushiil Deshmukh: rsd949<br>  \n",
        "Troy Richard: tdr944</center>\n"
      ]
    },
    {
      "cell_type": "markdown",
      "metadata": {
        "id": "bMHmsCgXmAg9"
      },
      "source": [
        "**Website URL:**\n",
        "https://forums.edmunds.com/discussion/2864/general/x/entry-level-luxury-performance-sedans/"
      ]
    },
    {
      "cell_type": "code",
      "metadata": {
        "colab": {
          "base_uri": "https://localhost:8080/",
          "height": 0
        },
        "id": "Ni_RDOSjTCJE",
        "outputId": "76468e26-cf56-4b21-e898-6b02128c52ce"
      },
      "source": [
        "#Selenium is an open-source tool that automates web browsers.\n",
        "!pip install selenium\n",
        "!apt-get -q update   #Used to handle installation and removal of softwares and libraries\n",
        "!apt install -yq chromium-chromedriver #ChromeDriver is a separate executable that Selenium WebDriver uses to control Chrome.\n",
        "!cp /usr/lib/chromium-browser/chromedriver /usr/bin\n",
        "\n",
        "import sys\n",
        "sys.path.insert(0,'/usr/lib/chromium-browser/chromedriver')\n",
        "from selenium import webdriver \n",
        "#WebDriver is a browser automation framework that works with open source APIs. \n",
        "#The framework operates by accepting commands, sending those commands to a browser, and interacting with applications.\n",
        "chrome_options = webdriver.ChromeOptions()\n",
        "chrome_options.add_argument('--headless')\n",
        "chrome_options.add_argument('--no-sandbox')\n",
        "chrome_options.add_argument('--disable-dev-shm-usage')"
      ],
      "execution_count": 1,
      "outputs": [
        {
          "output_type": "stream",
          "name": "stdout",
          "text": [
            "Collecting selenium\n",
            "  Downloading selenium-3.141.0-py2.py3-none-any.whl (904 kB)\n",
            "\u001b[K     |████████████████████████████████| 904 kB 5.4 MB/s \n",
            "\u001b[?25hRequirement already satisfied: urllib3 in /usr/local/lib/python3.7/dist-packages (from selenium) (1.24.3)\n",
            "Installing collected packages: selenium\n",
            "Successfully installed selenium-3.141.0\n",
            "Get:1 https://cloud.r-project.org/bin/linux/ubuntu bionic-cran40/ InRelease [3,626 B]\n",
            "Ign:2 https://developer.download.nvidia.com/compute/cuda/repos/ubuntu1804/x86_64  InRelease\n",
            "Get:3 http://security.ubuntu.com/ubuntu bionic-security InRelease [88.7 kB]\n",
            "Ign:4 https://developer.download.nvidia.com/compute/machine-learning/repos/ubuntu1804/x86_64  InRelease\n",
            "Get:5 http://ppa.launchpad.net/c2d4u.team/c2d4u4.0+/ubuntu bionic InRelease [15.9 kB]\n",
            "Hit:6 https://developer.download.nvidia.com/compute/cuda/repos/ubuntu1804/x86_64  Release\n",
            "Hit:7 https://developer.download.nvidia.com/compute/machine-learning/repos/ubuntu1804/x86_64  Release\n",
            "Hit:8 http://archive.ubuntu.com/ubuntu bionic InRelease\n",
            "Get:9 http://archive.ubuntu.com/ubuntu bionic-updates InRelease [88.7 kB]\n",
            "Get:10 https://cloud.r-project.org/bin/linux/ubuntu bionic-cran40/ Packages [67.4 kB]\n",
            "Hit:11 http://ppa.launchpad.net/cran/libgit2/ubuntu bionic InRelease\n",
            "Hit:13 http://ppa.launchpad.net/deadsnakes/ppa/ubuntu bionic InRelease\n",
            "Get:15 http://archive.ubuntu.com/ubuntu bionic-backports InRelease [74.6 kB]\n",
            "Get:16 http://security.ubuntu.com/ubuntu bionic-security/main amd64 Packages [2,326 kB]\n",
            "Get:17 http://security.ubuntu.com/ubuntu bionic-security/universe amd64 Packages [1,428 kB]\n",
            "Hit:18 http://ppa.launchpad.net/graphics-drivers/ppa/ubuntu bionic InRelease\n",
            "Get:19 http://archive.ubuntu.com/ubuntu bionic-updates/main amd64 Packages [2,761 kB]\n",
            "Get:20 http://ppa.launchpad.net/c2d4u.team/c2d4u4.0+/ubuntu bionic/main Sources [1,802 kB]\n",
            "Get:21 http://ppa.launchpad.net/c2d4u.team/c2d4u4.0+/ubuntu bionic/main amd64 Packages [922 kB]\n",
            "Get:22 http://archive.ubuntu.com/ubuntu bionic-updates/universe amd64 Packages [2,202 kB]\n",
            "Fetched 11.8 MB in 23s (516 kB/s)\n",
            "Reading package lists...\n",
            "Reading package lists...\n",
            "Building dependency tree...\n",
            "Reading state information...\n",
            "The following additional packages will be installed:\n",
            "  chromium-browser chromium-browser-l10n chromium-codecs-ffmpeg-extra\n",
            "Suggested packages:\n",
            "  webaccounts-chromium-extension unity-chromium-extension\n",
            "The following NEW packages will be installed:\n",
            "  chromium-browser chromium-browser-l10n chromium-chromedriver\n",
            "  chromium-codecs-ffmpeg-extra\n",
            "0 upgraded, 4 newly installed, 0 to remove and 60 not upgraded.\n",
            "Need to get 92.6 MB of archives.\n",
            "After this operation, 317 MB of additional disk space will be used.\n",
            "Get:1 http://archive.ubuntu.com/ubuntu bionic-updates/universe amd64 chromium-codecs-ffmpeg-extra amd64 93.0.4577.63-0ubuntu0.18.04.1 [1,135 kB]\n",
            "Get:2 http://archive.ubuntu.com/ubuntu bionic-updates/universe amd64 chromium-browser amd64 93.0.4577.63-0ubuntu0.18.04.1 [82.4 MB]\n",
            "Get:3 http://archive.ubuntu.com/ubuntu bionic-updates/universe amd64 chromium-browser-l10n all 93.0.4577.63-0ubuntu0.18.04.1 [4,133 kB]\n",
            "Get:4 http://archive.ubuntu.com/ubuntu bionic-updates/universe amd64 chromium-chromedriver amd64 93.0.4577.63-0ubuntu0.18.04.1 [4,961 kB]\n",
            "Fetched 92.6 MB in 2min 27s (630 kB/s)\n",
            "Selecting previously unselected package chromium-codecs-ffmpeg-extra.\n",
            "(Reading database ... 155013 files and directories currently installed.)\n",
            "Preparing to unpack .../chromium-codecs-ffmpeg-extra_93.0.4577.63-0ubuntu0.18.04.1_amd64.deb ...\n",
            "Unpacking chromium-codecs-ffmpeg-extra (93.0.4577.63-0ubuntu0.18.04.1) ...\n",
            "Selecting previously unselected package chromium-browser.\n",
            "Preparing to unpack .../chromium-browser_93.0.4577.63-0ubuntu0.18.04.1_amd64.deb ...\n",
            "Unpacking chromium-browser (93.0.4577.63-0ubuntu0.18.04.1) ...\n",
            "Selecting previously unselected package chromium-browser-l10n.\n",
            "Preparing to unpack .../chromium-browser-l10n_93.0.4577.63-0ubuntu0.18.04.1_all.deb ...\n",
            "Unpacking chromium-browser-l10n (93.0.4577.63-0ubuntu0.18.04.1) ...\n",
            "Selecting previously unselected package chromium-chromedriver.\n",
            "Preparing to unpack .../chromium-chromedriver_93.0.4577.63-0ubuntu0.18.04.1_amd64.deb ...\n",
            "Unpacking chromium-chromedriver (93.0.4577.63-0ubuntu0.18.04.1) ...\n",
            "Setting up chromium-codecs-ffmpeg-extra (93.0.4577.63-0ubuntu0.18.04.1) ...\n",
            "Setting up chromium-browser (93.0.4577.63-0ubuntu0.18.04.1) ...\n",
            "update-alternatives: using /usr/bin/chromium-browser to provide /usr/bin/x-www-browser (x-www-browser) in auto mode\n",
            "update-alternatives: using /usr/bin/chromium-browser to provide /usr/bin/gnome-www-browser (gnome-www-browser) in auto mode\n",
            "Setting up chromium-chromedriver (93.0.4577.63-0ubuntu0.18.04.1) ...\n",
            "Setting up chromium-browser-l10n (93.0.4577.63-0ubuntu0.18.04.1) ...\n",
            "Processing triggers for man-db (2.8.3-2ubuntu0.1) ...\n",
            "Processing triggers for hicolor-icon-theme (0.17-2) ...\n",
            "Processing triggers for mime-support (3.60ubuntu1) ...\n",
            "Processing triggers for libc-bin (2.27-3ubuntu1.3) ...\n",
            "/sbin/ldconfig.real: /usr/local/lib/python3.7/dist-packages/ideep4py/lib/libmkldnn.so.0 is not a symbolic link\n",
            "\n",
            "cp: '/usr/lib/chromium-browser/chromedriver' and '/usr/bin/chromedriver' are the same file\n"
          ]
        }
      ]
    },
    {
      "cell_type": "code",
      "metadata": {
        "id": "JXwOpPR9ZufJ"
      },
      "source": [
        "import pandas as pd\n",
        "import string\n",
        "import numpy as np\n",
        "import re"
      ],
      "execution_count": 2,
      "outputs": []
    },
    {
      "cell_type": "markdown",
      "metadata": {
        "id": "eP0DpCWv6PSl"
      },
      "source": [
        "## Web Scraping"
      ]
    },
    {
      "cell_type": "code",
      "metadata": {
        "id": "uPm2AOhKTeE0"
      },
      "source": [
        "wd = webdriver.Chrome('chromedriver',options=chrome_options)"
      ],
      "execution_count": 3,
      "outputs": []
    },
    {
      "cell_type": "code",
      "metadata": {
        "id": "L0zI0ETR2jtS"
      },
      "source": [
        "# Create function to replace punctuations in strings\n",
        "def string_cleanup(s):\n",
        "    s = s.replace('\\n', '')\n",
        "    s = s.replace('.', ' ')\n",
        "    s = s.replace(',', ' ')\n",
        "    s = s.translate(str.maketrans('','',string.punctuation))\n",
        "    return s"
      ],
      "execution_count": 4,
      "outputs": []
    },
    {
      "cell_type": "code",
      "metadata": {
        "id": "KN-nrA_nSz7h"
      },
      "source": [
        "# Create DataFrame to hold all comments\n",
        "df_comments = pd.DataFrame(columns = ['Date','Comment'])\n",
        "\n",
        "#Create Webscraper\n",
        "for pg in range(1, 101):\n",
        "  wd.get('https://forums.edmunds.com/discussion/2864/general/x/entry-level-luxury-performance-sedans/p' + str(pg))\n",
        "\n",
        "  ids = wd.find_elements_by_xpath(\"//*[contains(@id,'Comment_')]\")\n",
        "  comment_ids = []\n",
        "\n",
        "  for i in ids:\n",
        "    comment_ids.append(i.get_attribute('id'))\n",
        "  \n",
        "  for comments in comment_ids:\n",
        "    #Extract dates from for each user on a page\n",
        "    user_date = wd.find_elements_by_xpath('//*[@id=\"' + comments + '\"]/div/div[2]/div[2]/span/a/time')[0].get_attribute('title')\n",
        "\n",
        "    #Extract Message for each user on a page\n",
        "    user_message = wd.find_elements_by_xpath('//*[@id=\"' + comments + '\"]/div/div[3]/div/div[1]')[0].text\n",
        "    user_message = string_cleanup(user_message)\n",
        "                                   \n",
        "    #Adding date and comment for each user in a dataframe    \n",
        "    df_comments.loc[len(df_comments)] = [user_date,user_message]"
      ],
      "execution_count": 5,
      "outputs": []
    },
    {
      "cell_type": "code",
      "metadata": {
        "colab": {
          "base_uri": "https://localhost:8080/",
          "height": 17
        },
        "id": "pCn9xWpEpP4F",
        "outputId": "00f4caee-8e71-4b7e-8e49-da37d3f9b0ff"
      },
      "source": [
        "# Store scraped comments in csv file and download\n",
        "df_comments.to_csv('Edmunds_Scraped.csv')\n",
        "\n",
        "from google.colab import files\n",
        "files.download(\"Edmunds_Scraped.csv\")"
      ],
      "execution_count": 6,
      "outputs": [
        {
          "output_type": "display_data",
          "data": {
            "application/javascript": [
              "\n",
              "    async function download(id, filename, size) {\n",
              "      if (!google.colab.kernel.accessAllowed) {\n",
              "        return;\n",
              "      }\n",
              "      const div = document.createElement('div');\n",
              "      const label = document.createElement('label');\n",
              "      label.textContent = `Downloading \"${filename}\": `;\n",
              "      div.appendChild(label);\n",
              "      const progress = document.createElement('progress');\n",
              "      progress.max = size;\n",
              "      div.appendChild(progress);\n",
              "      document.body.appendChild(div);\n",
              "\n",
              "      const buffers = [];\n",
              "      let downloaded = 0;\n",
              "\n",
              "      const channel = await google.colab.kernel.comms.open(id);\n",
              "      // Send a message to notify the kernel that we're ready.\n",
              "      channel.send({})\n",
              "\n",
              "      for await (const message of channel.messages) {\n",
              "        // Send a message to notify the kernel that we're ready.\n",
              "        channel.send({})\n",
              "        if (message.buffers) {\n",
              "          for (const buffer of message.buffers) {\n",
              "            buffers.push(buffer);\n",
              "            downloaded += buffer.byteLength;\n",
              "            progress.value = downloaded;\n",
              "          }\n",
              "        }\n",
              "      }\n",
              "      const blob = new Blob(buffers, {type: 'application/binary'});\n",
              "      const a = document.createElement('a');\n",
              "      a.href = window.URL.createObjectURL(blob);\n",
              "      a.download = filename;\n",
              "      div.appendChild(a);\n",
              "      a.click();\n",
              "      div.remove();\n",
              "    }\n",
              "  "
            ],
            "text/plain": [
              "<IPython.core.display.Javascript object>"
            ]
          },
          "metadata": {}
        },
        {
          "output_type": "display_data",
          "data": {
            "application/javascript": [
              "download(\"download_0f94d142-d705-49cd-8404-126956d12d96\", \"Edmunds_Scraped.csv\", 2592268)"
            ],
            "text/plain": [
              "<IPython.core.display.Javascript object>"
            ]
          },
          "metadata": {}
        }
      ]
    },
    {
      "cell_type": "code",
      "metadata": {
        "id": "eeuKOIjA5j_n"
      },
      "source": [
        "df_comments2 = df_comments.copy()"
      ],
      "execution_count": 7,
      "outputs": []
    },
    {
      "cell_type": "markdown",
      "metadata": {
        "id": "_UZR-yYk6KAk"
      },
      "source": [
        "## Task A: Test Zipf's Law"
      ]
    },
    {
      "cell_type": "code",
      "metadata": {
        "id": "RxWVPgq4FemG"
      },
      "source": [
        "# Import required libraries\n",
        "import nltk\n",
        "nltk.download('punkt', quiet=True)\n",
        "nltk.download('stopwords', quiet=True)\n",
        "from nltk.corpus import stopwords\n",
        "from nltk.tokenize import word_tokenize\n",
        "from nltk.probability import FreqDist\n",
        "import matplotlib.pyplot as plt\n",
        "from nltk.corpus import stopwords"
      ],
      "execution_count": 31,
      "outputs": []
    },
    {
      "cell_type": "code",
      "metadata": {
        "id": "lX2d8ny5hdm_"
      },
      "source": [
        "# Create function to get frequency counts of words in a string\n",
        "def frequency_counts(s):\n",
        "    freq_dist = FreqDist(word.lower() for word in word_tokenize(s))\n",
        "    return freq_dist"
      ],
      "execution_count": 9,
      "outputs": []
    },
    {
      "cell_type": "code",
      "metadata": {
        "id": "83541tVKFhSp"
      },
      "source": [
        "all_comments = ''\n",
        "\n",
        "# Store all comments in a single variable\n",
        "for i in range(0, len(df_comments)):\n",
        "    all_comments = all_comments + str(df_comments['Comment'][i]) + ' '\n",
        "\n",
        "# Get frequency distribution of words from all comments    \n",
        "freq_dist = frequency_counts(all_comments).most_common(100)"
      ],
      "execution_count": 10,
      "outputs": []
    },
    {
      "cell_type": "code",
      "metadata": {
        "colab": {
          "base_uri": "https://localhost:8080/",
          "height": 654
        },
        "id": "GJuzepLKNKb-",
        "outputId": "77593320-c15f-4971-f3d2-c6eb36c8b744"
      },
      "source": [
        "df_zipfs = pd.DataFrame(columns = ['Word', 'Frequency', 'Rank'])\n",
        "\n",
        "# Store top 100 frequency words in a DataFrame\n",
        "for i in range(0, len(freq_dist)):\n",
        "    df_zipfs.loc[len(df_zipfs)] = [freq_dist[i][0], freq_dist[i][1], i + 1]\n",
        "\n",
        "print('We plot the Frequency vs Rank plot below')\n",
        "    \n",
        "# Plot Frequency vs Rank to show Zipf's Law    \n",
        "plt.figure(figsize=(15,10))\n",
        "plt.plot(df_zipfs['Rank'], df_zipfs['Frequency'])\n",
        "plt.xlabel('Rank')\n",
        "plt.ylabel('Frequency')\n",
        "plt.title('Frequency vs Rank (Zipf\\'s Law Plot)')"
      ],
      "execution_count": 11,
      "outputs": [
        {
          "output_type": "stream",
          "name": "stdout",
          "text": [
            "We plot the Frequency vs Rank plot below\n"
          ]
        },
        {
          "output_type": "execute_result",
          "data": {
            "text/plain": [
              "Text(0.5, 1.0, \"Frequency vs Rank (Zipf's Law Plot)\")"
            ]
          },
          "metadata": {},
          "execution_count": 11
        },
        {
          "output_type": "display_data",
          "data": {
            "image/png": "[encoded data removed]",
            "text/plain": [
              "<Figure size 1080x720 with 1 Axes>"
            ]
          },
          "metadata": {
            "needs_background": "light"
          }
        }
      ]
    },
    {
      "cell_type": "code",
      "metadata": {
        "colab": {
          "base_uri": "https://localhost:8080/",
          "height": 654
        },
        "id": "O07IgtvRmAhE",
        "outputId": "fbbc8986-ec32-4758-ae8a-90ba22398f96"
      },
      "source": [
        "# Plot Log-Log version of Frequency vs Rank to prove Zipf's Law\n",
        "logR = np.log(df_zipfs['Rank'].astype(float))\n",
        "logC = np.log(df_zipfs['Frequency'].astype(float))\n",
        "\n",
        "print('We plot the Log transform of the above graph to prove Zipf\\'s Law')\n",
        "\n",
        "ranks = np.log(df_zipfs['Rank'].astype(float)).tolist()\n",
        "plt.figure(figsize=(15,10))\n",
        "plt.plot(logR, logC)\n",
        "m,c = np.polyfit(logR,logC,1)\n",
        "y_fit = (m*logR+c)\n",
        "plt.plot(ranks, y_fit, 'c--')\n",
        "plt.xlabel('Rank')\n",
        "plt.ylabel('Frequency')\n",
        "plt.title('Frequency vs Rank (Log-Log Scale)')"
      ],
      "execution_count": 12,
      "outputs": [
        {
          "output_type": "stream",
          "name": "stdout",
          "text": [
            "We plot the Log transform of the above graph to prove Zipf's Law\n"
          ]
        },
        {
          "output_type": "execute_result",
          "data": {
            "text/plain": [
              "Text(0.5, 1.0, 'Frequency vs Rank (Log-Log Scale)')"
            ]
          },
          "metadata": {},
          "execution_count": 12
        },
        {
          "output_type": "display_data",
          "data": {
            "image/png": "[encoded data removed]",
            "text/plain": [
              "<Figure size 1080x720 with 1 Axes>"
            ]
          },
          "metadata": {
            "needs_background": "light"
          }
        }
      ]
    },
    {
      "cell_type": "markdown",
      "metadata": {
        "id": "V4jJbhz-pAJV"
      },
      "source": [
        "## Task B: Top 10 Brands by Frequency Counts"
      ]
    },
    {
      "cell_type": "code",
      "metadata": {
        "colab": {
          "resources": {
            "http://localhost:8080/nbextensions/google.colab/files.js": {
              "data": "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",
              "ok": true,
              "headers": [
                [
                  "content-type",
                  "application/javascript"
                ]
              ],
              "status": 200,
              "status_text": ""
            }
          },
          "base_uri": "https://localhost:8080/",
          "height": 73
        },
        "id": "SYzyNuMcpFTN",
        "outputId": "f1f60de9-76e2-42a3-b252-afb61c034e87"
      },
      "source": [
        "uploaded = files.upload()"
      ],
      "execution_count": 13,
      "outputs": [
        {
          "output_type": "display_data",
          "data": {
            "text/html": [
              "\n",
              "     <input type=\"file\" id=\"files-6f01f27e-c364-4c4a-bd8b-c04ed74ff321\" name=\"files[]\" multiple disabled\n",
              "        style=\"border:none\" />\n",
              "     <output id=\"result-6f01f27e-c364-4c4a-bd8b-c04ed74ff321\">\n",
              "      Upload widget is only available when the cell has been executed in the\n",
              "      current browser session. Please rerun this cell to enable.\n",
              "      </output>\n",
              "      <script src=\"/nbextensions/google.colab/files.js\"></script> "
            ],
            "text/plain": [
              "<IPython.core.display.HTML object>"
            ]
          },
          "metadata": {}
        },
        {
          "output_type": "stream",
          "name": "stdout",
          "text": [
            "Saving car models and brands.csv to car models and brands.csv\n"
          ]
        }
      ]
    },
    {
      "cell_type": "code",
      "metadata": {
        "id": "kOsSmjxLsXDi"
      },
      "source": [
        "# Read Car Model and Brand Mapping csv file\n",
        "df_cars = pd.read_csv('car models and brands.csv')\n",
        "\n",
        "# Clean up car models and brands\n",
        "for i in range(0, len(df_cars)):\n",
        "    df_cars['Model'][i] = string_cleanup(df_cars['Model'][i])\n",
        "\n",
        "df_cars['Brand'] = df_cars['Brand'].replace(['mercedes', 'mercedes benz', 'mercedes-benz'], 'mercedesbenz')\n",
        "df_cars['Brand'] = df_cars['Brand'].replace(['hyndai kia'], 'hyundai-kia')\n",
        "df_cars['Brand'] = df_cars['Brand'].replace(['hyundai,', 'hyundai.'], 'hyundai')\n",
        "df_cars['Brand'] = df_cars['Brand'].replace(['kia,', 'kia.'], 'kia')\n",
        "df_cars['Brand'] = df_cars['Brand'].replace(['nissan.'], 'nissan')\n",
        "df_cars['Brand'] = df_cars['Brand'].replace(['toyata'], 'toyota')\n",
        "df_cars['Brand'] = df_cars['Brand'].replace(['volkwagen'], 'volkswagen')"
      ],
      "execution_count": 14,
      "outputs": []
    },
    {
      "cell_type": "code",
      "metadata": {
        "scrolled": false,
        "id": "pWOFDoa1mAhF"
      },
      "source": [
        "# Add Model word count as a column and sort the DataFrame by the word count to replace multi-word models by their brands first\n",
        "df_cars['Model_Word_Count'] = df_cars['Model'].apply(lambda x:len(x.split(' ')))\n",
        "df_cars = df_cars.sort_values(by = ['Model_Word_Count'], ascending = False).reset_index()"
      ],
      "execution_count": 15,
      "outputs": []
    },
    {
      "cell_type": "code",
      "metadata": {
        "id": "39Bdksi320Sd"
      },
      "source": [
        "# Function to remove stopwords\n",
        "def remove_stopwords(s):\n",
        "    stop_words = set(stopwords.words('english'))\n",
        "    word_tokens = word_tokenize(s)\n",
        "    filtered_comments = [w.lower() for w in word_tokens if not w.lower() in stop_words]\n",
        "    final_comment = ' '\n",
        "    for i in range(0, len(filtered_comments)):\n",
        "        final_comment = final_comment + str(filtered_comments[i]) + ' '\n",
        "    return final_comment\n",
        "\n",
        "# Function to replace models with brands\n",
        "def replace_string(comm, df):\n",
        "    for i in range(0, len(df)):\n",
        "        comm = comm.replace(' ' + df['Model'][i] + ' ', ' ' + df['Brand'][i] + ' ')\n",
        "    return comm"
      ],
      "execution_count": 16,
      "outputs": []
    },
    {
      "cell_type": "code",
      "metadata": {
        "id": "JsQqF0o0gGoQ",
        "scrolled": true,
        "colab": {
          "base_uri": "https://localhost:8080/",
          "height": 374
        },
        "outputId": "29e4e31a-37d3-49f6-ea2e-5f8c4f8f7cca"
      },
      "source": [
        "# Fill NA Comments with Blanks\n",
        "df_comments['Comment'].fillna('', inplace = True)\n",
        "cleaned_comments = ' '\n",
        "list_cleaned_comments = []\n",
        "\n",
        "# Remove Stopwords and replace Models with Brands in all comments\n",
        "for i in range(0, len(df_comments)):\n",
        "    list_cleaned_comments.append(replace_string(remove_stopwords(df_comments['Comment'][i]), df_cars))\n",
        "    cleaned_comments = cleaned_comments + list_cleaned_comments[i] + ' '\n",
        "\n",
        "# Get Frequency distribution of words from cleaned comments\n",
        "freq_counts = frequency_counts(cleaned_comments).most_common()\n",
        "\n",
        "# Store the frequencies of top 10 Brands\n",
        "df_top_10_brands = pd.DataFrame(columns = ['Brand', 'Frequency'])\n",
        "length = 0\n",
        "for i in range(0, len(freq_counts)):\n",
        "    if freq_counts[i][0] not in ('car', 'sedan', 'problem'):\n",
        "        if freq_counts[i][0] in df_cars['Brand'].tolist():\n",
        "            df_top_10_brands.loc[len(df_top_10_brands)] = [freq_counts[i][0], freq_counts[i][1]]\n",
        "            length += 1\n",
        "    if length == 10:\n",
        "        break\n",
        "\n",
        "print('The top 10 Brands and their Frequencies are as follows.') \n",
        "df_top_10_brands"
      ],
      "execution_count": 17,
      "outputs": [
        {
          "output_type": "stream",
          "name": "stdout",
          "text": [
            "The top 10 Brands and their Frequencies are as follows.\n"
          ]
        },
        {
          "output_type": "execute_result",
          "data": {
            "text/html": [
              "<div>\n",
              "<style scoped>\n",
              "    .dataframe tbody tr th:only-of-type {\n",
              "        vertical-align: middle;\n",
              "    }\n",
              "\n",
              "    .dataframe tbody tr th {\n",
              "        vertical-align: top;\n",
              "    }\n",
              "\n",
              "    .dataframe thead th {\n",
              "        text-align: right;\n",
              "    }\n",
              "</style>\n",
              "<table border=\"1\" class=\"dataframe\">\n",
              "  <thead>\n",
              "    <tr style=\"text-align: right;\">\n",
              "      <th></th>\n",
              "      <th>Brand</th>\n",
              "      <th>Frequency</th>\n",
              "    </tr>\n",
              "  </thead>\n",
              "  <tbody>\n",
              "    <tr>\n",
              "      <th>0</th>\n",
              "      <td>bmw</td>\n",
              "      <td>2734</td>\n",
              "    </tr>\n",
              "    <tr>\n",
              "      <th>1</th>\n",
              "      <td>acura</td>\n",
              "      <td>825</td>\n",
              "    </tr>\n",
              "    <tr>\n",
              "      <th>2</th>\n",
              "      <td>audi</td>\n",
              "      <td>803</td>\n",
              "    </tr>\n",
              "    <tr>\n",
              "      <th>3</th>\n",
              "      <td>honda</td>\n",
              "      <td>704</td>\n",
              "    </tr>\n",
              "    <tr>\n",
              "      <th>4</th>\n",
              "      <td>infiniti</td>\n",
              "      <td>532</td>\n",
              "    </tr>\n",
              "    <tr>\n",
              "      <th>5</th>\n",
              "      <td>nissan</td>\n",
              "      <td>478</td>\n",
              "    </tr>\n",
              "    <tr>\n",
              "      <th>6</th>\n",
              "      <td>toyota</td>\n",
              "      <td>419</td>\n",
              "    </tr>\n",
              "    <tr>\n",
              "      <th>7</th>\n",
              "      <td>seat</td>\n",
              "      <td>402</td>\n",
              "    </tr>\n",
              "    <tr>\n",
              "      <th>8</th>\n",
              "      <td>subaru</td>\n",
              "      <td>361</td>\n",
              "    </tr>\n",
              "    <tr>\n",
              "      <th>9</th>\n",
              "      <td>volkswagen</td>\n",
              "      <td>322</td>\n",
              "    </tr>\n",
              "  </tbody>\n",
              "</table>\n",
              "</div>"
            ],
            "text/plain": [
              "        Brand Frequency\n",
              "0         bmw      2734\n",
              "1       acura       825\n",
              "2        audi       803\n",
              "3       honda       704\n",
              "4    infiniti       532\n",
              "5      nissan       478\n",
              "6      toyota       419\n",
              "7        seat       402\n",
              "8      subaru       361\n",
              "9  volkswagen       322"
            ]
          },
          "metadata": {},
          "execution_count": 17
        }
      ]
    },
    {
      "cell_type": "markdown",
      "metadata": {
        "id": "y1zfrIByRTGt"
      },
      "source": [
        "## Task C: Lift Ratios"
      ]
    },
    {
      "cell_type": "code",
      "metadata": {
        "id": "fMzchCmwSSAA"
      },
      "source": [
        "# Store the top 10 brands in a list\n",
        "top_10_brands = df_top_10_brands['Brand'].tolist()"
      ],
      "execution_count": 18,
      "outputs": []
    },
    {
      "cell_type": "code",
      "metadata": {
        "id": "L9Lf3jD-12K_"
      },
      "source": [
        "# Create a function to check whether a brand is mentioned in a comment\n",
        "def brand_mention(lst, s):\n",
        "    res = []\n",
        "    for i in range(0, len(lst)):\n",
        "        if lst[i] in s:\n",
        "            res.append(1)\n",
        "        else:\n",
        "            res.append(0)\n",
        "    return res"
      ],
      "execution_count": 19,
      "outputs": []
    },
    {
      "cell_type": "code",
      "metadata": {
        "id": "CjcAQ--NmAhG"
      },
      "source": [
        "df_brand_mentions = pd.DataFrame(columns = top_10_brands)\n",
        "\n",
        "# Store brand mentions in a separate DataFrame\n",
        "for i in range(0, len(list_cleaned_comments)):\n",
        "    df_brand_mentions.loc[i] = brand_mention(top_10_brands, list_cleaned_comments[i])"
      ],
      "execution_count": 20,
      "outputs": []
    },
    {
      "cell_type": "code",
      "metadata": {
        "scrolled": true,
        "colab": {
          "base_uri": "https://localhost:8080/",
          "height": 374
        },
        "id": "xcgJZq2SmAhG",
        "outputId": "71cb82b8-271a-45e8-c382-5fd793693588"
      },
      "source": [
        "df_brand_lifts = pd.DataFrame(columns = top_10_brands, index = top_10_brands)\n",
        "df_brand_dissimilarity = df_brand_lifts.copy()\n",
        "\n",
        "# Calculate Brand Lifts\n",
        "for i in range(0, len(df_brand_lifts)-1):\n",
        "    for j in range(i+1, len(df_brand_lifts)):\n",
        "        num_N = len(df_brand_mentions)\n",
        "        num_AB = sum(df_brand_mentions[top_10_brands[i]] & df_brand_mentions[top_10_brands[j]])\n",
        "        denom_A = sum(df_brand_mentions[top_10_brands[i]])\n",
        "        denom_B = sum(df_brand_mentions[top_10_brands[j]])\n",
        "        lift_AB = (num_N * num_AB) / (denom_A * denom_B)\n",
        "        df_brand_lifts.iloc[i][j] = lift_AB\n",
        "\n",
        "print('The Lift Ratios for the associations between the top 10 brands are as follows.')\n",
        "df_brand_lifts            "
      ],
      "execution_count": 21,
      "outputs": [
        {
          "output_type": "stream",
          "name": "stdout",
          "text": [
            "The Lift Ratios for the associations between the top 10 brands are as follows.\n"
          ]
        },
        {
          "output_type": "execute_result",
          "data": {
            "text/html": [
              "<div>\n",
              "<style scoped>\n",
              "    .dataframe tbody tr th:only-of-type {\n",
              "        vertical-align: middle;\n",
              "    }\n",
              "\n",
              "    .dataframe tbody tr th {\n",
              "        vertical-align: top;\n",
              "    }\n",
              "\n",
              "    .dataframe thead th {\n",
              "        text-align: right;\n",
              "    }\n",
              "</style>\n",
              "<table border=\"1\" class=\"dataframe\">\n",
              "  <thead>\n",
              "    <tr style=\"text-align: right;\">\n",
              "      <th></th>\n",
              "      <th>bmw</th>\n",
              "      <th>acura</th>\n",
              "      <th>audi</th>\n",
              "      <th>honda</th>\n",
              "      <th>infiniti</th>\n",
              "      <th>nissan</th>\n",
              "      <th>toyota</th>\n",
              "      <th>seat</th>\n",
              "      <th>subaru</th>\n",
              "      <th>volkswagen</th>\n",
              "    </tr>\n",
              "  </thead>\n",
              "  <tbody>\n",
              "    <tr>\n",
              "      <th>bmw</th>\n",
              "      <td>NaN</td>\n",
              "      <td>1.52414</td>\n",
              "      <td>1.75528</td>\n",
              "      <td>1.28077</td>\n",
              "      <td>1.96902</td>\n",
              "      <td>1.21332</td>\n",
              "      <td>1.38627</td>\n",
              "      <td>1.60439</td>\n",
              "      <td>1.18544</td>\n",
              "      <td>1.50196</td>\n",
              "    </tr>\n",
              "    <tr>\n",
              "      <th>acura</th>\n",
              "      <td>NaN</td>\n",
              "      <td>NaN</td>\n",
              "      <td>2.06839</td>\n",
              "      <td>2.53885</td>\n",
              "      <td>3.01668</td>\n",
              "      <td>2.20868</td>\n",
              "      <td>1.7436</td>\n",
              "      <td>1.35348</td>\n",
              "      <td>2.04712</td>\n",
              "      <td>1.77544</td>\n",
              "    </tr>\n",
              "    <tr>\n",
              "      <th>audi</th>\n",
              "      <td>NaN</td>\n",
              "      <td>NaN</td>\n",
              "      <td>NaN</td>\n",
              "      <td>1.38175</td>\n",
              "      <td>2.49975</td>\n",
              "      <td>1.4175</td>\n",
              "      <td>1.24609</td>\n",
              "      <td>2.12216</td>\n",
              "      <td>1.82875</td>\n",
              "      <td>4.22654</td>\n",
              "    </tr>\n",
              "    <tr>\n",
              "      <th>honda</th>\n",
              "      <td>NaN</td>\n",
              "      <td>NaN</td>\n",
              "      <td>NaN</td>\n",
              "      <td>NaN</td>\n",
              "      <td>1.5094</td>\n",
              "      <td>3.58537</td>\n",
              "      <td>3.51583</td>\n",
              "      <td>1.34446</td>\n",
              "      <td>1.42013</td>\n",
              "      <td>2.13488</td>\n",
              "    </tr>\n",
              "    <tr>\n",
              "      <th>infiniti</th>\n",
              "      <td>NaN</td>\n",
              "      <td>NaN</td>\n",
              "      <td>NaN</td>\n",
              "      <td>NaN</td>\n",
              "      <td>NaN</td>\n",
              "      <td>2.93754</td>\n",
              "      <td>1.2393</td>\n",
              "      <td>1.60652</td>\n",
              "      <td>1.76367</td>\n",
              "      <td>2.09314</td>\n",
              "    </tr>\n",
              "    <tr>\n",
              "      <th>nissan</th>\n",
              "      <td>NaN</td>\n",
              "      <td>NaN</td>\n",
              "      <td>NaN</td>\n",
              "      <td>NaN</td>\n",
              "      <td>NaN</td>\n",
              "      <td>NaN</td>\n",
              "      <td>3.8408</td>\n",
              "      <td>1.51665</td>\n",
              "      <td>1.57828</td>\n",
              "      <td>2.6759</td>\n",
              "    </tr>\n",
              "    <tr>\n",
              "      <th>toyota</th>\n",
              "      <td>NaN</td>\n",
              "      <td>NaN</td>\n",
              "      <td>NaN</td>\n",
              "      <td>NaN</td>\n",
              "      <td>NaN</td>\n",
              "      <td>NaN</td>\n",
              "      <td>NaN</td>\n",
              "      <td>1.85563</td>\n",
              "      <td>1.38743</td>\n",
              "      <td>2.25327</td>\n",
              "    </tr>\n",
              "    <tr>\n",
              "      <th>seat</th>\n",
              "      <td>NaN</td>\n",
              "      <td>NaN</td>\n",
              "      <td>NaN</td>\n",
              "      <td>NaN</td>\n",
              "      <td>NaN</td>\n",
              "      <td>NaN</td>\n",
              "      <td>NaN</td>\n",
              "      <td>NaN</td>\n",
              "      <td>1.20146</td>\n",
              "      <td>2.37652</td>\n",
              "    </tr>\n",
              "    <tr>\n",
              "      <th>subaru</th>\n",
              "      <td>NaN</td>\n",
              "      <td>NaN</td>\n",
              "      <td>NaN</td>\n",
              "      <td>NaN</td>\n",
              "      <td>NaN</td>\n",
              "      <td>NaN</td>\n",
              "      <td>NaN</td>\n",
              "      <td>NaN</td>\n",
              "      <td>NaN</td>\n",
              "      <td>2.41656</td>\n",
              "    </tr>\n",
              "    <tr>\n",
              "      <th>volkswagen</th>\n",
              "      <td>NaN</td>\n",
              "      <td>NaN</td>\n",
              "      <td>NaN</td>\n",
              "      <td>NaN</td>\n",
              "      <td>NaN</td>\n",
              "      <td>NaN</td>\n",
              "      <td>NaN</td>\n",
              "      <td>NaN</td>\n",
              "      <td>NaN</td>\n",
              "      <td>NaN</td>\n",
              "    </tr>\n",
              "  </tbody>\n",
              "</table>\n",
              "</div>"
            ],
            "text/plain": [
              "            bmw    acura     audi  ...     seat   subaru volkswagen\n",
              "bmw         NaN  1.52414  1.75528  ...  1.60439  1.18544    1.50196\n",
              "acura       NaN      NaN  2.06839  ...  1.35348  2.04712    1.77544\n",
              "audi        NaN      NaN      NaN  ...  2.12216  1.82875    4.22654\n",
              "honda       NaN      NaN      NaN  ...  1.34446  1.42013    2.13488\n",
              "infiniti    NaN      NaN      NaN  ...  1.60652  1.76367    2.09314\n",
              "nissan      NaN      NaN      NaN  ...  1.51665  1.57828     2.6759\n",
              "toyota      NaN      NaN      NaN  ...  1.85563  1.38743    2.25327\n",
              "seat        NaN      NaN      NaN  ...      NaN  1.20146    2.37652\n",
              "subaru      NaN      NaN      NaN  ...      NaN      NaN    2.41656\n",
              "volkswagen  NaN      NaN      NaN  ...      NaN      NaN        NaN\n",
              "\n",
              "[10 rows x 10 columns]"
            ]
          },
          "metadata": {},
          "execution_count": 21
        }
      ]
    },
    {
      "cell_type": "markdown",
      "metadata": {
        "id": "yo1oV42YmAhG"
      },
      "source": [
        "## Task D: MDS Map"
      ]
    },
    {
      "cell_type": "code",
      "metadata": {
        "id": "P7VqrmDhmAhG"
      },
      "source": [
        "# Create brand dissimilarity matrix\n",
        "for i in range(0, len(df_brand_dissimilarity)):\n",
        "    for j in range(0, len(df_brand_dissimilarity)):\n",
        "        if i == j:\n",
        "            df_brand_dissimilarity.iloc[i][j] = 0\n",
        "        elif i < j:\n",
        "            df_brand_dissimilarity.iloc[i][j] = 1 / df_brand_lifts.iloc[i][j]\n",
        "        else:\n",
        "            df_brand_dissimilarity.iloc[i][j] = 1 / df_brand_lifts.iloc[j][i]"
      ],
      "execution_count": 22,
      "outputs": []
    },
    {
      "cell_type": "code",
      "metadata": {
        "id": "06tFW2SAmAhH"
      },
      "source": [
        "# Import libraries for the MDS map\n",
        "from sklearn.manifold import MDS\n",
        "from matplotlib import pyplot as plt\n",
        "import sklearn.datasets as dt\n",
        "import seaborn as sns         \n",
        "import numpy as np\n",
        "from sklearn.metrics.pairwise import manhattan_distances, euclidean_distances\n",
        "from matplotlib.offsetbox import OffsetImage, AnnotationBbox"
      ],
      "execution_count": 23,
      "outputs": []
    },
    {
      "cell_type": "code",
      "metadata": {
        "colab": {
          "base_uri": "https://localhost:8080/",
          "height": 643
        },
        "id": "8BePimOymAhH",
        "outputId": "2c8a54a7-6703-4dbd-c41d-f691e66df8aa"
      },
      "source": [
        "# Plot the MDS map using the computed dissimilarity matrix\n",
        "mds = MDS(n_components=2, random_state=3, dissimilarity=\"precomputed\")\n",
        "brand_mds = mds.fit_transform(df_brand_dissimilarity)\n",
        "\n",
        "print('We plot the MDS Map as shown.')\n",
        "\n",
        "plt.figure(figsize=(15,10))\n",
        "plt.subplots_adjust(bottom = 0.1)\n",
        "plt.scatter(\n",
        "    brand_mds[:, 0], brand_mds[:, 1], marker = 'o'\n",
        "    )\n",
        "for label, x, y in zip(top_10_brands, brand_mds[:, 0], brand_mds[:, 1]):\n",
        "    plt.annotate(\n",
        "        label,\n",
        "        xy = (x, y), xytext = (-20, 20),\n",
        "        textcoords = 'offset points', ha = 'right', va = 'bottom',\n",
        "        bbox = dict(boxstyle = 'round,pad=0.5', fc = 'yellow', alpha = 0.5),\n",
        "        arrowprops = dict(arrowstyle = '->', connectionstyle = 'arc3,rad=0'))\n",
        "plt.title('MDS Map')\n",
        "    \n",
        "plt.show()"
      ],
      "execution_count": 24,
      "outputs": [
        {
          "output_type": "stream",
          "name": "stdout",
          "text": [
            "We plot the MDS Map as shown.\n"
          ]
        },
        {
          "output_type": "display_data",
          "data": {
            "image/png": "[encoded data removed]",
            "text/plain": [
              "<Figure size 1080x720 with 1 Axes>"
            ]
          },
          "metadata": {
            "needs_background": "light"
          }
        }
      ]
    },
    {
      "cell_type": "markdown",
      "metadata": {
        "id": "1Vih3OCimAhH"
      },
      "source": [
        "## Task E: Insights"
      ]
    },
    {
      "cell_type": "markdown",
      "metadata": {
        "id": "VtBZDUxumAhH"
      },
      "source": [
        "Based on the data we have been able to collect so far, we see high lift values between Audi and Volkswagen. Volkswagen owns the Audi brand, so to see a strong correlation isn't unreasonable. Since these brands are ideally working together, it would be safe to assume there isn't a defining line between a consumer looking for a high end, top of the line Volkswagen and a consumer looking to break into the luxury car space with Audi.  Price comparisons for these styles of cars are close enough, and we can see how easy it would be for a consumer to start with a Volkswagen, then build up to an Audi over time. \n",
        "\n",
        "This claim can be backed up by looking at our other co-owned brand. We see a high lift value between Honda and Acura, because Honda owns Acura. Even if a consumer isn't necessarily looking to break into the luxury car space, we can say with  confidence the reputation of the parent brand helps solidify consumers for the luxury brand as the consumer gets older and has more experience with the parent brand. This makes moving brands much less threatening to a consumer and allows for an easy target population.\n",
        "\n",
        "Our lift values don't just reveal relations between co-owned companies, we also see heavy correlations between the different mid-level brands' luxury offerings. Nissan and Toyota share our highest lift value. They are both Japanese car companies with strong roots in the mid-level space. This comparison makes the most sense, since consumers looking for entry level luxury cars would also look to compare from the high end offerings of mid level brands. Additionally, we see that the lift values for Honda-Nissan and Honda-Toyota are comparably high, showing a focus on the direct comparision between said brands."
      ]
    },
    {
      "cell_type": "markdown",
      "metadata": {
        "id": "fv-zJWL3mAhH"
      },
      "source": [
        "## Task F: Attributes and Features"
      ]
    },
    {
      "cell_type": "markdown",
      "metadata": {
        "id": "Az4j6cmCmAhI"
      },
      "source": [
        "The major attributes are found by initially looking at the data and procuring the top 5 from the frequency distribution."
      ]
    },
    {
      "cell_type": "code",
      "metadata": {
        "colab": {
          "base_uri": "https://localhost:8080/",
          "height": 220
        },
        "id": "Xjph_ellmAhI",
        "outputId": "d4722adb-687e-4283-ea76-a21f16952149"
      },
      "source": [
        "# Store the top 5 attributes in a list\n",
        "top_5_attributes = ['performance', 'luxury', 'engine', 'price', 'power']\n",
        "df_top_5_attributes = pd.DataFrame(columns = ['Attribute', 'Frequency'])\n",
        "\n",
        "# Plot the frequencies of the top 5 attributes\n",
        "complete = 0\n",
        "for i in range(0, len(freq_counts)):\n",
        "    if freq_counts[i][0] in top_5_attributes:\n",
        "        df_top_5_attributes.loc[len(df_top_5_attributes)] = freq_counts[i]\n",
        "        complete = complete + 1\n",
        "    if complete == 5:\n",
        "        break       \n",
        "\n",
        "print('The top 5 attributes and their frequencies are as follows.')\n",
        "df_top_5_attributes"
      ],
      "execution_count": 25,
      "outputs": [
        {
          "output_type": "stream",
          "name": "stdout",
          "text": [
            "The top 5 attributes and their frequencies are as follows.\n"
          ]
        },
        {
          "output_type": "execute_result",
          "data": {
            "text/html": [
              "<div>\n",
              "<style scoped>\n",
              "    .dataframe tbody tr th:only-of-type {\n",
              "        vertical-align: middle;\n",
              "    }\n",
              "\n",
              "    .dataframe tbody tr th {\n",
              "        vertical-align: top;\n",
              "    }\n",
              "\n",
              "    .dataframe thead th {\n",
              "        text-align: right;\n",
              "    }\n",
              "</style>\n",
              "<table border=\"1\" class=\"dataframe\">\n",
              "  <thead>\n",
              "    <tr style=\"text-align: right;\">\n",
              "      <th></th>\n",
              "      <th>Attribute</th>\n",
              "      <th>Frequency</th>\n",
              "    </tr>\n",
              "  </thead>\n",
              "  <tbody>\n",
              "    <tr>\n",
              "      <th>0</th>\n",
              "      <td>performance</td>\n",
              "      <td>916</td>\n",
              "    </tr>\n",
              "    <tr>\n",
              "      <th>1</th>\n",
              "      <td>luxury</td>\n",
              "      <td>687</td>\n",
              "    </tr>\n",
              "    <tr>\n",
              "      <th>2</th>\n",
              "      <td>engine</td>\n",
              "      <td>611</td>\n",
              "    </tr>\n",
              "    <tr>\n",
              "      <th>3</th>\n",
              "      <td>price</td>\n",
              "      <td>535</td>\n",
              "    </tr>\n",
              "    <tr>\n",
              "      <th>4</th>\n",
              "      <td>power</td>\n",
              "      <td>498</td>\n",
              "    </tr>\n",
              "  </tbody>\n",
              "</table>\n",
              "</div>"
            ],
            "text/plain": [
              "     Attribute Frequency\n",
              "0  performance       916\n",
              "1       luxury       687\n",
              "2       engine       611\n",
              "3        price       535\n",
              "4        power       498"
            ]
          },
          "metadata": {},
          "execution_count": 25
        }
      ]
    },
    {
      "cell_type": "code",
      "metadata": {
        "id": "LJBgikWZmAhI"
      },
      "source": [
        "df_attribute_mentions = pd.DataFrame(columns = top_5_attributes)\n",
        "\n",
        "# Store attribute mentions in the cleaned comments in a separate DataFrame\n",
        "for i in range(0, len(list_cleaned_comments)):\n",
        "    df_attribute_mentions.loc[i] = brand_mention(top_5_attributes, list_cleaned_comments[i])\n",
        "\n",
        "df_mentions = df_brand_mentions.copy()\n",
        "df_mentions[top_5_attributes] = df_attribute_mentions[top_5_attributes]"
      ],
      "execution_count": 26,
      "outputs": []
    },
    {
      "cell_type": "code",
      "metadata": {
        "colab": {
          "base_uri": "https://localhost:8080/",
          "height": 220
        },
        "id": "47CWQ1XBmAhI",
        "outputId": "4611be1e-a19f-4c28-9871-91bfea601e1c"
      },
      "source": [
        "df_lifts = pd.DataFrame(columns = top_10_brands, index = top_5_attributes)\n",
        "\n",
        "# Compute Lift ratios for associations between the attributes and brands\n",
        "for i in range(0, len(df_lifts)):\n",
        "    for j in range(0, len(df_lifts.columns)):\n",
        "        num_N = len(df_mentions)\n",
        "        num_AB = sum(df_mentions[top_5_attributes[i]] & df_brand_mentions[top_10_brands[j]])\n",
        "        denom_A = sum(df_mentions[top_5_attributes[i]])\n",
        "        denom_B = sum(df_brand_mentions[top_10_brands[j]])\n",
        "        lift_AB = (num_N * num_AB) / (denom_A * denom_B)\n",
        "        df_lifts.iloc[i][j] = lift_AB\n",
        "\n",
        "print('The Lift Ratios for the associations between the top 5 attributes and the top 10 brands are as follows.')\n",
        "df_lifts   "
      ],
      "execution_count": 27,
      "outputs": [
        {
          "output_type": "stream",
          "name": "stdout",
          "text": [
            "The Lift Ratios for the associations between the top 5 attributes and the top 10 brands are as follows.\n"
          ]
        },
        {
          "output_type": "execute_result",
          "data": {
            "text/html": [
              "<div>\n",
              "<style scoped>\n",
              "    .dataframe tbody tr th:only-of-type {\n",
              "        vertical-align: middle;\n",
              "    }\n",
              "\n",
              "    .dataframe tbody tr th {\n",
              "        vertical-align: top;\n",
              "    }\n",
              "\n",
              "    .dataframe thead th {\n",
              "        text-align: right;\n",
              "    }\n",
              "</style>\n",
              "<table border=\"1\" class=\"dataframe\">\n",
              "  <thead>\n",
              "    <tr style=\"text-align: right;\">\n",
              "      <th></th>\n",
              "      <th>bmw</th>\n",
              "      <th>acura</th>\n",
              "      <th>audi</th>\n",
              "      <th>honda</th>\n",
              "      <th>infiniti</th>\n",
              "      <th>nissan</th>\n",
              "      <th>toyota</th>\n",
              "      <th>seat</th>\n",
              "      <th>subaru</th>\n",
              "      <th>volkswagen</th>\n",
              "    </tr>\n",
              "  </thead>\n",
              "  <tbody>\n",
              "    <tr>\n",
              "      <th>performance</th>\n",
              "      <td>1.50597</td>\n",
              "      <td>1.48531</td>\n",
              "      <td>1.45258</td>\n",
              "      <td>1.47346</td>\n",
              "      <td>1.55958</td>\n",
              "      <td>1.29965</td>\n",
              "      <td>1.4005</td>\n",
              "      <td>1.43546</td>\n",
              "      <td>1.68473</td>\n",
              "      <td>1.31964</td>\n",
              "    </tr>\n",
              "    <tr>\n",
              "      <th>luxury</th>\n",
              "      <td>1.44055</td>\n",
              "      <td>2.02801</td>\n",
              "      <td>1.58752</td>\n",
              "      <td>1.6899</td>\n",
              "      <td>1.74338</td>\n",
              "      <td>1.59621</td>\n",
              "      <td>2.57382</td>\n",
              "      <td>2.17168</td>\n",
              "      <td>3.14776</td>\n",
              "      <td>2.06906</td>\n",
              "    </tr>\n",
              "    <tr>\n",
              "      <th>engine</th>\n",
              "      <td>1.43517</td>\n",
              "      <td>1.53928</td>\n",
              "      <td>1.80862</td>\n",
              "      <td>1.4376</td>\n",
              "      <td>1.46456</td>\n",
              "      <td>2.05418</td>\n",
              "      <td>1.80182</td>\n",
              "      <td>2.0372</td>\n",
              "      <td>1.17978</td>\n",
              "      <td>1.73816</td>\n",
              "    </tr>\n",
              "    <tr>\n",
              "      <th>price</th>\n",
              "      <td>1.56895</td>\n",
              "      <td>1.49445</td>\n",
              "      <td>1.9365</td>\n",
              "      <td>1.70715</td>\n",
              "      <td>1.59009</td>\n",
              "      <td>1.14121</td>\n",
              "      <td>1.6355</td>\n",
              "      <td>1.79396</td>\n",
              "      <td>1.22046</td>\n",
              "      <td>2.02785</td>\n",
              "    </tr>\n",
              "    <tr>\n",
              "      <th>power</th>\n",
              "      <td>1.53588</td>\n",
              "      <td>1.80642</td>\n",
              "      <td>1.81329</td>\n",
              "      <td>1.71299</td>\n",
              "      <td>1.39814</td>\n",
              "      <td>1.90656</td>\n",
              "      <td>1.17139</td>\n",
              "      <td>2.74904</td>\n",
              "      <td>1.67914</td>\n",
              "      <td>1.89793</td>\n",
              "    </tr>\n",
              "  </tbody>\n",
              "</table>\n",
              "</div>"
            ],
            "text/plain": [
              "                 bmw    acura     audi  ...     seat   subaru volkswagen\n",
              "performance  1.50597  1.48531  1.45258  ...  1.43546  1.68473    1.31964\n",
              "luxury       1.44055  2.02801  1.58752  ...  2.17168  3.14776    2.06906\n",
              "engine       1.43517  1.53928  1.80862  ...   2.0372  1.17978    1.73816\n",
              "price        1.56895  1.49445   1.9365  ...  1.79396  1.22046    2.02785\n",
              "power        1.53588  1.80642  1.81329  ...  2.74904  1.67914    1.89793\n",
              "\n",
              "[5 rows x 10 columns]"
            ]
          },
          "metadata": {},
          "execution_count": 27
        }
      ]
    },
    {
      "cell_type": "markdown",
      "metadata": {
        "id": "zKpYVJVbmAhI"
      },
      "source": [
        "## Task G: Insights"
      ]
    },
    {
      "cell_type": "markdown",
      "metadata": {
        "id": "AULoreU_mAhI"
      },
      "source": [
        "There seems to be a relatively low association between the top 10 brands and performance. BMW, Infiniti and Subaru have marginally significant lift values for performance. Further sentiment analysis may be beneficial in understanding the true relationship between these brands and performance.\n",
        "\n",
        "Subaru has the highest lift value with luxury. In 2005, Toyota acquired 40% of General Motor's stake in Fuji Heavy Industries (Subaru's parent company). Furthermore, Toyota's lift value for luxury is relatively high as well. Therefore, this new association between Subaru brand cars and Toyota could be cause for car enthusiasts to associate Subaru with luxury.\n",
        "\n",
        "Nissan has the highest lift value with engine. In 2004 the Nissan Maxima was repivoted as a luxury sports sedan, competing directly with the Acura TL and Lexus ES 300. This vehicle has a 3.5 L VQ35DE V6 engine, which has likely created a positive reaction amongst most car enthusiasts. \n",
        "\n",
        "Volkswagen has the highest lift value with price. Volkswagen is the parent company for brands such as Audi and SEAT, luxury brands with lower lift values for price than Volkswagen. Volkswagen's high association with price is likely due to the company's ability to offer similar features found in their group's more expensive brand offerings, but under the Volkswagen brand and therefore at a decreased cost.\n",
        "\n",
        "SEAT has the highest lift value with power. SEAT has formed part of the Audi Brand Group, consisting of Audi, SEAT and Lamborghini, which is  focused on more sporty values, with SEAT's newer offerings falling under the responsibility of the Audi brand. Since 2005, SEAT has also competed in the World Touring Car Championship in 2005. This is likely why car enthusiasts perceive SEAT to have a positive relationship with power. "
      ]
    },
    {
      "cell_type": "markdown",
      "metadata": {
        "id": "54hC_i6bmAhJ"
      },
      "source": [
        "## Task H: Aspirational Brands"
      ]
    },
    {
      "cell_type": "code",
      "metadata": {
        "id": "JhsVsH7nmAhJ"
      },
      "source": [
        "# Store chosen aspiration words/phrases in a list\n",
        "aspiration_words = ['want to have', 'love to have', 'dream of', 'like to have', 'want to own', 'dream car', 'next target', 'target', 'aim', 'ambition', 'desire', 'dream', 'eager', 'endeavor', 'inclination', 'inclined', 'wish', 'yearn']\n",
        "aspiration_mentions = []\n",
        "aspiration_comments = list_cleaned_comments.copy()\n",
        "\n",
        "# Replace chosen words/phrases with the word, 'aspiration'\n",
        "for i in range(0, len(aspiration_comments)):\n",
        "    for j in range(0, len(aspiration_words)):\n",
        "        aspiration_comments[i] = aspiration_comments[i].replace(' ' + aspiration_words[j] + ' ', ' aspiration ')\n",
        "\n",
        "# Store mentions of aspiration in the comments in a separate list\n",
        "for i in range(0, len(aspiration_comments)):\n",
        "    if 'aspiration' in aspiration_comments[i]:\n",
        "        aspiration_mentions.append(1)\n",
        "    else:\n",
        "        aspiration_mentions.append(0)"
      ],
      "execution_count": 28,
      "outputs": []
    },
    {
      "cell_type": "code",
      "metadata": {
        "id": "jsDDffLxmAhJ"
      },
      "source": [
        "# Append Aspiration Mentions list to the mentions DataFrame\n",
        "df_aspiration_mentions = df_brand_mentions.copy()\n",
        "df_aspiration_mentions['aspiration'] = aspiration_mentions"
      ],
      "execution_count": 29,
      "outputs": []
    },
    {
      "cell_type": "code",
      "metadata": {
        "colab": {
          "base_uri": "https://localhost:8080/",
          "height": 374
        },
        "id": "9OlvHwLamAhJ",
        "outputId": "6180085b-20b4-4563-8c14-d165598323b8"
      },
      "source": [
        "df_aspiration_lifts = pd.DataFrame(columns = ['aspiration'], index = top_10_brands)\n",
        "\n",
        "# Compute Lift ratios between aspiration and the top 10 brands\n",
        "for i in range(0, len(df_aspiration_lifts)):\n",
        "    num_N = len(df_aspiration_mentions)\n",
        "    num_AB = sum(df_aspiration_mentions[top_10_brands[i]] & df_aspiration_mentions['aspiration'])\n",
        "    denom_A = sum(df_aspiration_mentions[top_10_brands[i]])\n",
        "    denom_B = sum(df_aspiration_mentions['aspiration'])\n",
        "    lift_AB = (num_N * num_AB) / (denom_A * denom_B)\n",
        "    df_aspiration_lifts.iloc[i] = lift_AB\n",
        "\n",
        "print('The Lift Ratios for the associations between aspiration and the top 10 brands are as follows.')\n",
        "df_aspiration_lifts   "
      ],
      "execution_count": 30,
      "outputs": [
        {
          "output_type": "stream",
          "name": "stdout",
          "text": [
            "The Lift Ratios for the associations between aspiration and the top 10 brands are as follows.\n"
          ]
        },
        {
          "output_type": "execute_result",
          "data": {
            "text/html": [
              "<div>\n",
              "<style scoped>\n",
              "    .dataframe tbody tr th:only-of-type {\n",
              "        vertical-align: middle;\n",
              "    }\n",
              "\n",
              "    .dataframe tbody tr th {\n",
              "        vertical-align: top;\n",
              "    }\n",
              "\n",
              "    .dataframe thead th {\n",
              "        text-align: right;\n",
              "    }\n",
              "</style>\n",
              "<table border=\"1\" class=\"dataframe\">\n",
              "  <thead>\n",
              "    <tr style=\"text-align: right;\">\n",
              "      <th></th>\n",
              "      <th>aspiration</th>\n",
              "    </tr>\n",
              "  </thead>\n",
              "  <tbody>\n",
              "    <tr>\n",
              "      <th>bmw</th>\n",
              "      <td>1.55301</td>\n",
              "    </tr>\n",
              "    <tr>\n",
              "      <th>acura</th>\n",
              "      <td>1.80781</td>\n",
              "    </tr>\n",
              "    <tr>\n",
              "      <th>audi</th>\n",
              "      <td>1.39146</td>\n",
              "    </tr>\n",
              "    <tr>\n",
              "      <th>honda</th>\n",
              "      <td>1.36869</td>\n",
              "    </tr>\n",
              "    <tr>\n",
              "      <th>infiniti</th>\n",
              "      <td>1.78103</td>\n",
              "    </tr>\n",
              "    <tr>\n",
              "      <th>nissan</th>\n",
              "      <td>1.0226</td>\n",
              "    </tr>\n",
              "    <tr>\n",
              "      <th>toyota</th>\n",
              "      <td>1.73874</td>\n",
              "    </tr>\n",
              "    <tr>\n",
              "      <th>seat</th>\n",
              "      <td>1.36229</td>\n",
              "    </tr>\n",
              "    <tr>\n",
              "      <th>subaru</th>\n",
              "      <td>1.45815</td>\n",
              "    </tr>\n",
              "    <tr>\n",
              "      <th>volkswagen</th>\n",
              "      <td>2.37951</td>\n",
              "    </tr>\n",
              "  </tbody>\n",
              "</table>\n",
              "</div>"
            ],
            "text/plain": [
              "           aspiration\n",
              "bmw           1.55301\n",
              "acura         1.80781\n",
              "audi          1.39146\n",
              "honda         1.36869\n",
              "infiniti      1.78103\n",
              "nissan         1.0226\n",
              "toyota        1.73874\n",
              "seat          1.36229\n",
              "subaru        1.45815\n",
              "volkswagen    2.37951"
            ]
          },
          "metadata": {},
          "execution_count": 30
        }
      ]
    },
    {
      "cell_type": "markdown",
      "metadata": {
        "id": "pLxZ7vaKmAhJ"
      },
      "source": [
        "Volkswagen is the most aspirational brand among the top entry level luxury sedans in this model. By cross-checking the mention of each brand with terms associated with aspiration, this analysis was able to determine the true market preference of consumers for each brand. The list of words substituted by aspiration is:\n",
        "\n",
        "['want to have', 'love to have', 'dream of', 'like to have', 'want to own', 'dream car', 'next target', 'target', 'aim', 'ambition', 'desire', 'dream', 'eager', 'endeavor', 'inclination', 'inclined', 'wish', 'yearn']\n",
        "\n",
        "This high aspiration mark for Volkswagen is quite reasonable. Volkswagen is the parent company of other brands in our top 10 list, Audi and SEAT. Volkswagen's ability to pull desirable features from these more expensive and luxury-branded companies and offer them in a more affordable package makes the company's cars a reasonable aspiration for many car enthusiasts. Further, in 2005 Volkwagen debuted a renewed and improved Jetta line with largely popular reviews.\n",
        "\n",
        "Volkswagen will soon be the industry standard, which will likely result in increased competition and the need for continued differentiation to maintain this status. If not, advancements by other mid level parent brands with access to subsidaries' advancements such as Toyota will cause a waning on the aspirational hold of the brand among consumers. And, as seen by the relatively high aspirational values of Acura and Infiniti, luxury brands are still genuine competitors in this market."
      ]
    }
  ]
}